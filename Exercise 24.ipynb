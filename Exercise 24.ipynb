{
 "cells": [
  {
   "cell_type": "code",
   "execution_count": 9,
   "metadata": {},
   "outputs": [
    {
     "name": "stdin",
     "output_type": "stream",
     "text": [
      "Enter the Length of Rectangle 1: 2\n",
      "Enter the Breadth of Rectangle 1: 3\n"
     ]
    },
    {
     "name": "stdout",
     "output_type": "stream",
     "text": [
      "Area is:\n",
      "6\n",
      "Perimeter is:\n",
      "10\n",
      "\n",
      "\n"
     ]
    },
    {
     "name": "stdin",
     "output_type": "stream",
     "text": [
      "Enter the Length of Rectangle 2: 2\n",
      "Enter the Breadth of Rectangle 2: 3\n"
     ]
    },
    {
     "name": "stdout",
     "output_type": "stream",
     "text": [
      "Area is:\n",
      "6\n",
      "Perimeter is:\n",
      "10\n",
      "\n",
      " \n",
      "Area are Equal\n"
     ]
    }
   ],
   "source": [
    "#1.Create Rectangle  class with attributes length and breadth and methods to find area and perimeter.compare two Rectangle objects by their area\n",
    "\n",
    "#create class rectangle\n",
    "class Rectangle():\n",
    "    def getval(self,length,breadth):\n",
    "        self.length=length\n",
    "        self.breadth=breadth\n",
    "        \n",
    "#function to calculate area        \n",
    "    def  area(self):\n",
    "        print(\"Area is:\")\n",
    "        return self.length*self.breadth\n",
    "#function to calculate perimeter   \n",
    "    def perimeter(self):\n",
    "        print(\"Perimeter is:\")\n",
    "        return 2*(self.length+self.breadth)\n",
    "    \n",
    "    \n",
    "NewRectangle=Rectangle()  \n",
    "length=(int(input(\"Enter the Length of Rectangle 1:\")))\n",
    "breadth=(int(input(\"Enter the Breadth of Rectangle 1:\")))\n",
    "NewRectangle.getval(length,breadth)\n",
    "rec1=NewRectangle.area()\n",
    "print(rec1)\n",
    "print(NewRectangle.perimeter())\n",
    "\n",
    "\n",
    "print(\"\\n\")\n",
    "\n",
    "length=(int(input(\"Enter the Length of Rectangle 2:\")))\n",
    "breadth=(int(input(\"Enter the Breadth of Rectangle 2:\")))\n",
    "NewRectangle.getval(length,breadth)\n",
    "rec2=NewRectangle.area()\n",
    "print(rec2)\n",
    "print(NewRectangle.perimeter())\n",
    "\n",
    "\n",
    "print(\"\\n \")\n",
    "if(rec1==rec2):\n",
    "    print(\"Area are Equal\")\n",
    "else:\n",
    "    print(\"Area are not equal\")\n",
    "\n"
   ]
  },
  {
   "cell_type": "code",
   "execution_count": null,
   "metadata": {},
   "outputs": [],
   "source": []
  }
 ],
 "metadata": {
  "kernelspec": {
   "display_name": "Python 3",
   "language": "python",
   "name": "python3"
  },
  "language_info": {
   "codemirror_mode": {
    "name": "ipython",
    "version": 3
   },
   "file_extension": ".py",
   "mimetype": "text/x-python",
   "name": "python",
   "nbconvert_exporter": "python",
   "pygments_lexer": "ipython3",
   "version": "3.8.5"
  }
 },
 "nbformat": 4,
 "nbformat_minor": 4
}
