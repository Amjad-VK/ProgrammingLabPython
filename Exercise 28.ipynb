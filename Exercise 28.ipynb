{
 "cells": [
  {
   "cell_type": "code",
   "execution_count": 11,
   "metadata": {},
   "outputs": [
    {
     "name": "stdout",
     "output_type": "stream",
     "text": [
      "Enter a string with Upper and Lower Case Letters:How\n",
      "--No of Lower and Upper Case---\n",
      "\n",
      "Lower Case: 2\n",
      "\n",
      "Upper Case: 1\n"
     ]
    }
   ],
   "source": [
    "#Python Function to calculate upper and lower case\n",
    "def Ulcalc(str):\n",
    "    u=0\n",
    "    l=0\n",
    "    for i in str:\n",
    "        if i.isupper():\n",
    "            u=u+1;\n",
    "        else:\n",
    "            l=l+1;\n",
    "    return u,l    \n",
    "        \n",
    "str=input(\"Enter a string with Upper and Lower Case Letters:\")      \n",
    "u,l=Ulcalc(str)\n",
    "print(\"--No of Lower and Upper Case---\")\n",
    "print(\"\\nLower Case:\",l)\n",
    "print(\"\\nUpper Case:\",u)"
   ]
  },
  {
   "cell_type": "code",
   "execution_count": 20,
   "metadata": {},
   "outputs": [
    {
     "name": "stdout",
     "output_type": "stream",
     "text": [
      "Enter some Elements:77 8 77 44 45 44\n",
      "----Unique Elements Are:--------\n",
      "8\n",
      "45\n"
     ]
    }
   ],
   "source": [
    "#Unique Elements\n",
    "def Unique(lst):\n",
    "    u=list()\n",
    "    for i in lst:\n",
    "        t=lst.count(i)\n",
    "        if t==1:\n",
    "            u.append(i)\n",
    "    return u\n",
    "\n",
    "lst=input(\"Enter some Elements:\").split(\" \")\n",
    "u=Unique(lst)\n",
    "print(\"----Unique Elements Are:--------\")\n",
    "for i in u:\n",
    "    print(i)"
   ]
  },
  {
   "cell_type": "code",
   "execution_count": 10,
   "metadata": {},
   "outputs": [
    {
     "name": "stdout",
     "output_type": "stream",
     "text": [
      "Enter a number:407\n",
      "Armstrong\n"
     ]
    }
   ],
   "source": [
    "#import module and find armstrong\n",
    "\n",
    "import armstrong \n",
    "num=int(input(\"Enter a number:\"))\n",
    "k=armst(num)\n",
    "print(k)"
   ]
  },
  {
   "cell_type": "code",
   "execution_count": null,
   "metadata": {
    "collapsed": true
   },
   "outputs": [],
   "source": []
  }
 ],
 "metadata": {
  "kernelspec": {
   "display_name": "Python 3",
   "language": "python",
   "name": "python3"
  },
  "language_info": {
   "codemirror_mode": {
    "name": "ipython",
    "version": 3
   },
   "file_extension": ".py",
   "mimetype": "text/x-python",
   "name": "python",
   "nbconvert_exporter": "python",
   "pygments_lexer": "ipython3",
   "version": "3.6.3"
  }
 },
 "nbformat": 4,
 "nbformat_minor": 2
}
