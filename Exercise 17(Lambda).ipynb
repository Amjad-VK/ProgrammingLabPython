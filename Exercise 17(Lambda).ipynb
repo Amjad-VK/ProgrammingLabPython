{
 "cells": [
  {
   "cell_type": "code",
   "execution_count": 41,
   "metadata": {},
   "outputs": [
    {
     "name": "stdout",
     "output_type": "stream",
     "text": [
      "SELECT AN OPTION \n",
      " 1.AREA OF SQUARE \n",
      " 2.AREA OF RECTANGLE \n",
      " 3.AREA OF TRIANGLE\n"
     ]
    },
    {
     "name": "stdin",
     "output_type": "stream",
     "text": [
      "Select an Option: 1\n",
      "Enter the length of side: 6\n"
     ]
    },
    {
     "name": "stdout",
     "output_type": "stream",
     "text": [
      "AREA OF SQUARE: 36\n"
     ]
    }
   ],
   "source": [
    "print(\"SELECT AN OPTION \\n 1.AREA OF SQUARE \\n 2.AREA OF RECTANGLE \\n 3.AREA OF TRIANGLE\")\n",
    "\n",
    "\n",
    "s=lambda a:a**2\n",
    "r=lambda w,h:w*h\n",
    "t=lambda b,h:1/2*(b*h)\n",
    "\n",
    "opt=int(input(\"Select an Option:\"))\n",
    "\n",
    "\n",
    "if (opt==1):\n",
    "           a=int(input('Enter the length of side:'))\n",
    "           print(\"AREA OF SQUARE:\",s(a))\n",
    "\n",
    "\n",
    "if (opt==2):\n",
    "              w=int(input(\"Enter length:\"))\n",
    "              h=int(input('Enter breadth:'))\n",
    "              print('AREA OF RECTANGLE:',r(w,h))\n",
    "\n",
    "if (opt==3):\n",
    "              b=int(input(\"Enter the Base:\"))\n",
    "              h=int(input('Enter the Height:'))\n",
    "              print('AREA OF TRIANGLE:',t(b,h))\n",
    "\n",
    "        \n",
    "        \n",
    "        \n",
    "\n"
   ]
  },
  {
   "cell_type": "code",
   "execution_count": null,
   "metadata": {},
   "outputs": [],
   "source": []
  },
  {
   "cell_type": "markdown",
   "metadata": {},
   "source": []
  }
 ],
 "metadata": {
  "kernelspec": {
   "display_name": "Python 3",
   "language": "python",
   "name": "python3"
  },
  "language_info": {
   "codemirror_mode": {
    "name": "ipython",
    "version": 3
   },
   "file_extension": ".py",
   "mimetype": "text/x-python",
   "name": "python",
   "nbconvert_exporter": "python",
   "pygments_lexer": "ipython3",
   "version": "3.8.5"
  }
 },
 "nbformat": 4,
 "nbformat_minor": 4
}
