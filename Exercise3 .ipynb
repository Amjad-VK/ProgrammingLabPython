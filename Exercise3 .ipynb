{
 "cells": [
  {
   "cell_type": "code",
   "execution_count": 4,
   "metadata": {},
   "outputs": [
    {
     "name": "stdout",
     "output_type": "stream",
     "text": [
      "Sum 15\n",
      "Difference 5\n",
      "Product 50\n",
      "Quotient 2.0\n",
      "Remainder 1\n",
      "Exponent 25\n",
      "Floor Division 2\n"
     ]
    }
   ],
   "source": [
    "#Operators in Python\n",
    "\n",
    "a,b,c=10,5,2\n",
    "print(\"Sum\",a+b)\n",
    "print(\"Difference\",a-b)\n",
    "print(\"Product\",a*b)\n",
    "print(\"Quotient\",a/b)\n",
    "print(\"Remainder\",b%c)\n",
    "print(\"Exponent\",b**2)\n",
    "print(\"Floor Division\",b//c)"
   ]
  },
  {
   "cell_type": "code",
   "execution_count": 5,
   "metadata": {},
   "outputs": [
    {
     "name": "stdin",
     "output_type": "stream",
     "text": [
      "Enter the Celcius Value You Want to Convert: 23\n"
     ]
    },
    {
     "name": "stdout",
     "output_type": "stream",
     "text": [
      "Farenheit is 73.4\n"
     ]
    }
   ],
   "source": [
    "#Program to convert Celcius to Farenheit\n",
    "\n",
    "celcius=int(input(\"Enter the Celcius Value You Want to Convert:\"))\n",
    "farenheit=celcius*(9/5)+32\n",
    "print(\"Farenheit is\",farenheit)\n",
    "\n"
   ]
  },
  {
   "cell_type": "code",
   "execution_count": 8,
   "metadata": {},
   "outputs": [
    {
     "name": "stdin",
     "output_type": "stream",
     "text": [
      "Enter the Kilometer value you want to convert 3\n"
     ]
    },
    {
     "name": "stdout",
     "output_type": "stream",
     "text": [
      "In Miles 1.86411\n"
     ]
    }
   ],
   "source": [
    "#Program to convert kilometers to miles\n",
    "\n",
    "kilometers=int(input(\"Enter the Kilometer value you want to convert\"))\n",
    "miles=kilometers*0.62137\n",
    "print(\"In Miles\",miles)"
   ]
  },
  {
   "cell_type": "code",
   "execution_count": 3,
   "metadata": {},
   "outputs": [
    {
     "name": "stdin",
     "output_type": "stream",
     "text": [
      "Enter first number: 100\n",
      "Enter Second number: 36\n"
     ]
    },
    {
     "name": "stdout",
     "output_type": "stream",
     "text": [
      "Value of num1: 100\n",
      "Value of num2: 36\n",
      "Value of num1 after swapping: 36\n",
      "Value of num2 after swapping: 100\n"
     ]
    }
   ],
   "source": [
    "#Program to Swap two variable\n",
    "\n",
    "#Get values of 1&2 no from user\n",
    "num1=input('Enter first number:')\n",
    "num2=input('Enter Second number:')\n",
    "\n",
    "#Print the user input value\n",
    "print(\"Value of num1:\",num1)\n",
    "print(\"Value of num2:\",num2)\n",
    "\n",
    "#Creating a temporary variable\n",
    "temp=num1\n",
    "num1=num2\n",
    "num2=temp\n",
    "\n",
    "#Print the Swapped Values\n",
    "print(\"Value of num1 after swapping:\",num1)\n",
    "print(\"Value of num2 after swapping:\",num2)"
   ]
  },
  {
   "cell_type": "code",
   "execution_count": null,
   "metadata": {},
   "outputs": [],
   "source": []
  }
 ],
 "metadata": {
  "kernelspec": {
   "display_name": "Python 3",
   "language": "python",
   "name": "python3"
  },
  "language_info": {
   "codemirror_mode": {
    "name": "ipython",
    "version": 3
   },
   "file_extension": ".py",
   "mimetype": "text/x-python",
   "name": "python",
   "nbconvert_exporter": "python",
   "pygments_lexer": "ipython3",
   "version": "3.8.5"
  }
 },
 "nbformat": 4,
 "nbformat_minor": 4
}
