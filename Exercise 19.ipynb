{
 "cells": [
  {
   "cell_type": "code",
   "execution_count": 9,
   "metadata": {},
   "outputs": [
    {
     "name": "stdout",
     "output_type": "stream",
     "text": [
      "Substracted 5 days from current date is: 2021-01-14 13:49:06.305937\n"
     ]
    }
   ],
   "source": [
    "#1.To substract 5 days from given date\n",
    "from datetime import datetime,timedelta\n",
    "currdttim=datetime.now()\n",
    "bef5d=currdttim-timedelta(days=5)\n",
    "\n",
    "\n",
    "print('Substracted 5 days from current date is:',bef5d)"
   ]
  },
  {
   "cell_type": "code",
   "execution_count": 10,
   "metadata": {},
   "outputs": [
    {
     "name": "stdout",
     "output_type": "stream",
     "text": [
      "Today: 2021-01-19 14:05:15.122265\n",
      "Yesterday: 2021-01-18 14:05:15.122265\n",
      "Tommorow: 2021-01-20 14:05:15.122265\n"
     ]
    }
   ],
   "source": [
    "#2.To print yesterday,today and tommorow\n",
    "from datetime import datetime,timedelta\n",
    "td=datetime.now()\n",
    "ys=td-timedelta(days=1)\n",
    "tm=td+timedelta(days=1)\n",
    "print('Today:',td)\n",
    "print(\"Yesterday:\",ys)\n",
    "print(\"Tommorow:\",tm)\n",
    "\n"
   ]
  },
  {
   "cell_type": "code",
   "execution_count": 2,
   "metadata": {},
   "outputs": [
    {
     "name": "stdout",
     "output_type": "stream",
     "text": [
      "2021-02-01 23:25:52.374297\n",
      "2021-02-02 23:25:52.374297\n",
      "2021-02-03 23:25:52.374297\n",
      "2021-02-04 23:25:52.374297\n",
      "2021-02-05 23:25:52.374297\n"
     ]
    }
   ],
   "source": [
    "#3.To print next 5 days from starting today\n",
    "import datetime\n",
    "now = datetime.datetime.today()\n",
    "for x in range(0, 5):\n",
    "      print(now + datetime.timedelta(days=x))"
   ]
  },
  {
   "cell_type": "code",
   "execution_count": 4,
   "metadata": {},
   "outputs": [
    {
     "name": "stdout",
     "output_type": "stream",
     "text": [
      "74 days\n"
     ]
    }
   ],
   "source": [
    "#4.To get days between two given dates\n",
    "from datetime import date\n",
    " \n",
    "def numofdays(date1, date2):\n",
    "    return (date2-date1).days\n",
    "     \n",
    "\n",
    "date1 = date(2018, 12, 13)\n",
    "date2 = date(2019, 2, 25)\n",
    "print(numofdays(date1, date2), \"days\")"
   ]
  },
  {
   "cell_type": "code",
   "execution_count": null,
   "metadata": {},
   "outputs": [],
   "source": []
  }
 ],
 "metadata": {
  "kernelspec": {
   "display_name": "Python 3",
   "language": "python",
   "name": "python3"
  },
  "language_info": {
   "codemirror_mode": {
    "name": "ipython",
    "version": 3
   },
   "file_extension": ".py",
   "mimetype": "text/x-python",
   "name": "python",
   "nbconvert_exporter": "python",
   "pygments_lexer": "ipython3",
   "version": "3.8.5"
  }
 },
 "nbformat": 4,
 "nbformat_minor": 4
}
