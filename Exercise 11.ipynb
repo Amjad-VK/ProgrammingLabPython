{
 "cells": [
  {
   "cell_type": "code",
   "execution_count": 1,
   "metadata": {},
   "outputs": [
    {
     "name": "stdin",
     "output_type": "stream",
     "text": [
      "Enter a tuple: Hello\n"
     ]
    },
    {
     "name": "stdout",
     "output_type": "stream",
     "text": [
      "('o', 'l', 'l', 'e', 'H')\n"
     ]
    }
   ],
   "source": [
    "#1.Write a Python prgram to reverse a tuple\n",
    "\n",
    "t=input('Enter a tuple:')\n",
    "r=reversed(t)\n",
    "print(tuple(r))"
   ]
  },
  {
   "cell_type": "code",
   "execution_count": 2,
   "metadata": {},
   "outputs": [
    {
     "name": "stdout",
     "output_type": "stream",
     "text": [
      "Average value is:  20.0\n"
     ]
    }
   ],
   "source": [
    "#2.Write a Python program to calculate the average value of numbers in a given tuple\n",
    "\n",
    "nums=(10,20,30)\n",
    "avg=sum(nums)/len(nums)\n",
    "print(\"Average value is: \",avg)"
   ]
  },
  {
   "cell_type": "code",
   "execution_count": 5,
   "metadata": {},
   "outputs": [
    {
     "name": "stdout",
     "output_type": "stream",
     "text": [
      "('G', 'o', 'o', 'd', ' ', 'M', 'o', 'r', 'n', 'i', 'n', 'g')\n",
      "5\n"
     ]
    }
   ],
   "source": [
    "#3.Write a Python program to find the index of an item of a tuple\n",
    "\n",
    "tup=tuple(\"Good Morning\")\n",
    "print(tup)\n",
    "#get index of item by index fun\n",
    "indextup=tup.index(\"M\")\n",
    "print(indextup)"
   ]
  },
  {
   "cell_type": "code",
   "execution_count": 10,
   "metadata": {},
   "outputs": [
    {
     "name": "stdout",
     "output_type": "stream",
     "text": [
      "(12, 13, 14, 15)\n",
      "An item is removed: (12, 13, 15)\n"
     ]
    }
   ],
   "source": [
    "#4.Write a python program to remove an item from tuple\n",
    "tuple1=(12,13,14,15)\n",
    "print(tuple1)\n",
    "#for removng an item\n",
    "tuple1=tuple1[0:2]+tuple1[3:]\n",
    "print(\"An item is removed:\",tuple1)"
   ]
  },
  {
   "cell_type": "code",
   "execution_count": 16,
   "metadata": {},
   "outputs": [
    {
     "name": "stdout",
     "output_type": "stream",
     "text": [
      "cherry\n",
      "anar\n"
     ]
    }
   ],
   "source": [
    "#5.Write a Python program to get the 3rd element and 3rd element from last tuple\n",
    "\n",
    "thistuple = (\"apple\", \"banana\", \"cherry\",\"mango\",\"papaya\",\"kiwi\",\"anar\",\"carrot\",\"tomato\",\"onion\")\n",
    "#Print 3rd element\n",
    "print(thistuple[2])\n",
    "\n",
    "#Print 3rd from last\n",
    "print(thistuple[-4])"
   ]
  },
  {
   "cell_type": "code",
   "execution_count": null,
   "metadata": {},
   "outputs": [],
   "source": []
  },
  {
   "cell_type": "code",
   "execution_count": null,
   "metadata": {},
   "outputs": [],
   "source": []
  }
 ],
 "metadata": {
  "kernelspec": {
   "display_name": "Python 3",
   "language": "python",
   "name": "python3"
  },
  "language_info": {
   "codemirror_mode": {
    "name": "ipython",
    "version": 3
   },
   "file_extension": ".py",
   "mimetype": "text/x-python",
   "name": "python",
   "nbconvert_exporter": "python",
   "pygments_lexer": "ipython3",
   "version": "3.8.5"
  }
 },
 "nbformat": 4,
 "nbformat_minor": 4
}
