{
 "cells": [
  {
   "cell_type": "code",
   "execution_count": 5,
   "metadata": {},
   "outputs": [
    {
     "name": "stdin",
     "output_type": "stream",
     "text": [
      "Enter number of numbers 3\n",
      "Enter number 1 :  -44\n",
      "Enter number 2 :  50\n",
      "Enter number 3 :  4\n"
     ]
    },
    {
     "name": "stdout",
     "output_type": "stream",
     "text": [
      "GIVEN NUMBER LIST :  [-44, 50, 4]\n",
      "POSITIVE NUMBER LIST :  [50, 4]\n"
     ]
    }
   ],
   "source": [
    "#Generate a positive list of no's from a given list of integers\n",
    "\n",
    "no_num=int(input(\"Enter number of numbers\")) \n",
    "numList=list()  \n",
    "for i in range(no_num): \n",
    "    number=int(input(\"Enter number %d : \"%(i+1)))\n",
    "    numList.append(number)\n",
    "print(\"GIVEN NUMBER LIST : \",numList) # printing given number list\n",
    "posNumList=[i for i in numList if i > 0] \n",
    "print(\"POSITIVE NUMBER LIST : \",posNumList)"
   ]
  },
  {
   "cell_type": "code",
   "execution_count": 29,
   "metadata": {},
   "outputs": [
    {
     "name": "stdin",
     "output_type": "stream",
     "text": [
      "Enter the range of numbers 3\n",
      "Enter number 1: 1\n",
      "Enter number 2: 2\n",
      "Enter number 3: 3\n"
     ]
    },
    {
     "name": "stdout",
     "output_type": "stream",
     "text": [
      "Square of no's: [1, 4, 9]\n"
     ]
    }
   ],
   "source": [
    "#Square of N numbers\n",
    "\n",
    "num=int(input(\"Enter the range of numbers\"))\n",
    "numlist=list()\n",
    "for i in range(num): #loop to read no's to list\n",
    "    number=int(input(\"Enter number %d:\"%(i+1)))\n",
    "    numlist.append(number)\n",
    "sqno=[i**2 for i in numlist]\n",
    "print(\"Square of no's:\",sqno)\n"
   ]
  },
  {
   "cell_type": "code",
   "execution_count": 1,
   "metadata": {},
   "outputs": [
    {
     "name": "stdin",
     "output_type": "stream",
     "text": [
      "Enter a Word :  liberal\n"
     ]
    },
    {
     "name": "stdout",
     "output_type": "stream",
     "text": [
      "LIST OF VOWELS IN THE WORD :  ['i', 'e', 'a']\n"
     ]
    }
   ],
   "source": [
    "#Form a list of vowels selected from a given word\n",
    "\n",
    "word=input(\"Enter a Word : \") \n",
    "vowels=['a','e','i','o','u']  \n",
    "RvowelList=[i for i in word if i in vowels]  \n",
    "vowelList=list() \n",
    "[vowelList.append(i) for i in RvowelList if i not in vowelList] \n",
    "print(\"LIST OF VOWELS IN THE WORD : \",vowelList)\n",
    "\n",
    "\n"
   ]
  },
  {
   "cell_type": "code",
   "execution_count": 2,
   "metadata": {},
   "outputs": [
    {
     "name": "stdin",
     "output_type": "stream",
     "text": [
      "Enter a word: Bat\n"
     ]
    },
    {
     "name": "stdout",
     "output_type": "stream",
     "text": [
      "ORDINAL VALUE: ['B : 66', 'a : 97', 't : 116']\n"
     ]
    }
   ],
   "source": [
    "#List ordinal value of each element of a word (Hint: use ord() to get ordinal values)\n",
    "char=input(\"Enter a word:\")\n",
    "ordinal=[(\"%s : %d\"%(i,ord(i))) for i in char]\n",
    "print(\"ORDINAL VALUE:\",ordinal)\n"
   ]
  },
  {
   "cell_type": "code",
   "execution_count": null,
   "metadata": {},
   "outputs": [],
   "source": []
  }
 ],
 "metadata": {
  "kernelspec": {
   "display_name": "Python 3",
   "language": "python",
   "name": "python3"
  },
  "language_info": {
   "codemirror_mode": {
    "name": "ipython",
    "version": 3
   },
   "file_extension": ".py",
   "mimetype": "text/x-python",
   "name": "python",
   "nbconvert_exporter": "python",
   "pygments_lexer": "ipython3",
   "version": "3.8.5"
  }
 },
 "nbformat": 4,
 "nbformat_minor": 4
}
