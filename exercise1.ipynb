{
 "cells": [
  {
   "cell_type": "code",
   "execution_count": 8,
   "metadata": {},
   "outputs": [
    {
     "name": "stdin",
     "output_type": "stream",
     "text": [
      "Enter the length of triangle: 5\n",
      "Enter the height of triangle: 6\n"
     ]
    },
    {
     "name": "stdout",
     "output_type": "stream",
     "text": [
      "Area is 15.0\n"
     ]
    }
   ],
   "source": [
    "#program to compute area of Right angled triangle\n",
    "\n",
    "length=int(input(\"Enter the length of triangle:\"))\n",
    "height=int(input(\"Enter the height of triangle:\"))\n",
    "area=(length*height)/2\n",
    "print(\"Area is\",area)"
   ]
  },
  {
   "cell_type": "code",
   "execution_count": 11,
   "metadata": {},
   "outputs": [
    {
     "name": "stdin",
     "output_type": "stream",
     "text": [
      "Enter the side of a square: 5\n"
     ]
    },
    {
     "name": "stdout",
     "output_type": "stream",
     "text": [
      "Area is 25\n"
     ]
    }
   ],
   "source": [
    "#Program to area of square\n",
    "\n",
    "a=int(input(\"Enter the side of a square:\" ))  #get input from user\n",
    "area=a*a    #equation\n",
    "print(\"Area is\",area)"
   ]
  },
  {
   "cell_type": "code",
   "execution_count": 12,
   "metadata": {},
   "outputs": [
    {
     "name": "stdin",
     "output_type": "stream",
     "text": [
      "Enter Your Name: AMJAD\n"
     ]
    },
    {
     "name": "stdout",
     "output_type": "stream",
     "text": [
      "Hello AMJAD!\n"
     ]
    }
   ],
   "source": [
    "#Program to Greet user by printing\n",
    "\n",
    "name=input(\"Enter Your Name:\") #to get name from user\n",
    "print(\"Hello\",name+\"!\")"
   ]
  },
  {
   "cell_type": "code",
   "execution_count": 13,
   "metadata": {},
   "outputs": [
    {
     "name": "stdin",
     "output_type": "stream",
     "text": [
      "Enter a number: 5\n"
     ]
    },
    {
     "name": "stdout",
     "output_type": "stream",
     "text": [
      "Previous no is  4 and next no is 6\n"
     ]
    }
   ],
   "source": [
    "#Program to read an integer number and prints its previous and next numbers\n",
    "a=int(input(\"Enter a number:\"))\n",
    "prev=a-1\n",
    "next=a+1\n",
    "print(\"Previous no is \",prev,\"and next no is\",next)"
   ]
  },
  {
   "cell_type": "code",
   "execution_count": 15,
   "metadata": {},
   "outputs": [
    {
     "name": "stdin",
     "output_type": "stream",
     "text": [
      "Enter the principle amount: 50\n",
      "Enter the years: 6\n",
      "Enter the rate: 21\n"
     ]
    },
    {
     "name": "stdout",
     "output_type": "stream",
     "text": [
      "The simple interest is: 63.0\n"
     ]
    }
   ],
   "source": [
    "#Program to calculate simple Interest\n",
    "\n",
    "principle=float(input(\"Enter the principle amount:\"))\n",
    "time=int(input(\"Enter the years:\"))\n",
    "rate=float(input(\"Enter the rate:\"))\n",
    "simple_interest=(principle*time*rate)/100\n",
    "print(\"The simple interest is:\",simple_interest)"
   ]
  },
  {
   "cell_type": "code",
   "execution_count": null,
   "metadata": {},
   "outputs": [],
   "source": []
  }
 ],
 "metadata": {
  "kernelspec": {
   "display_name": "Python 3",
   "language": "python",
   "name": "python3"
  },
  "language_info": {
   "codemirror_mode": {
    "name": "ipython",
    "version": 3
   },
   "file_extension": ".py",
   "mimetype": "text/x-python",
   "name": "python",
   "nbconvert_exporter": "python",
   "pygments_lexer": "ipython3",
   "version": "3.8.5"
  }
 },
 "nbformat": 4,
 "nbformat_minor": 4
}
