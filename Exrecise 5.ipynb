{
 "cells": [
  {
   "cell_type": "code",
   "execution_count": 1,
   "metadata": {},
   "outputs": [
    {
     "name": "stdin",
     "output_type": "stream",
     "text": [
      "Enter first number:  3\n",
      "Enter second number:  5\n",
      "Enter third number:  9\n"
     ]
    },
    {
     "name": "stdout",
     "output_type": "stream",
     "text": [
      "The largest among these three numbers is 9\n"
     ]
    }
   ],
   "source": [
    "#Program to find largest of 3 numbers\n",
    "num1 = int(input(\"Enter first number: \"))\n",
    "num2 = int(input(\"Enter second number: \"))\n",
    "num3 = int(input(\"Enter third number: \"))\n",
    "numbers = [num1, num2, num3]\n",
    "print(\"The largest among these three numbers is\",max(numbers))"
   ]
  },
  {
   "cell_type": "code",
   "execution_count": 3,
   "metadata": {},
   "outputs": [
    {
     "name": "stdin",
     "output_type": "stream",
     "text": [
      "Enter the String abcd\n"
     ]
    },
    {
     "data": {
      "text/plain": [
       "'dbca'"
      ]
     },
     "execution_count": 3,
     "metadata": {},
     "output_type": "execute_result"
    }
   ],
   "source": [
    "#Python program to change given string where first and last characters exchanged\n",
    "str1=str(input(\"Enter the String\"))\n",
    "str1[-1:] + str1[1:-1] + str1[:1]"
   ]
  },
  {
   "cell_type": "code",
   "execution_count": 21,
   "metadata": {},
   "outputs": [
    {
     "name": "stdin",
     "output_type": "stream",
     "text": [
      "Enter the String qwert\n"
     ]
    },
    {
     "data": {
      "text/plain": [
       "'qwrt'"
      ]
     },
     "execution_count": 21,
     "metadata": {},
     "output_type": "execute_result"
    }
   ],
   "source": [
    "#Program to get a string made of first 2 and last 2 chars from a given string\n",
    "str2=str(input(\"Enter the String\"))\n",
    "str2[:2] + str2[3:5]"
   ]
  },
  {
   "cell_type": "code",
   "execution_count": 33,
   "metadata": {},
   "outputs": [
    {
     "name": "stdin",
     "output_type": "stream",
     "text": [
      "Enter the String 1: abcd\n",
      "Enter the String 2: efgh\n"
     ]
    },
    {
     "data": {
      "text/plain": [
       "'ebcd afgh'"
      ]
     },
     "execution_count": 33,
     "metadata": {},
     "output_type": "execute_result"
    }
   ],
   "source": [
    "#Program to get a string from two given string seperated by a space and swap first two characters of each string\n",
    "st1=str(input(\"Enter the String 1:\"))\n",
    "st2=str(input(\"Enter the String 2:\"))\n",
    "st2[:1]+st1[1:4]+' '+str1[:1]+st2[1:4]"
   ]
  },
  {
   "cell_type": "code",
   "execution_count": 23,
   "metadata": {},
   "outputs": [
    {
     "name": "stdin",
     "output_type": "stream",
     "text": [
      "Enter the String AppLe\n"
     ]
    },
    {
     "name": "stdout",
     "output_type": "stream",
     "text": [
      "AppLe\n",
      "APPLE\n",
      "apple\n"
     ]
    }
   ],
   "source": [
    "#Program to take input from user and display back in upper and lower cases\n",
    "st=str(input(\"Enter the String\"))\n",
    "print(st)\n",
    "print(st.upper())\n",
    "print(st.lower())"
   ]
  },
  {
   "cell_type": "code",
   "execution_count": null,
   "metadata": {},
   "outputs": [],
   "source": []
  }
 ],
 "metadata": {
  "kernelspec": {
   "display_name": "Python 3",
   "language": "python",
   "name": "python3"
  },
  "language_info": {
   "codemirror_mode": {
    "name": "ipython",
    "version": 3
   },
   "file_extension": ".py",
   "mimetype": "text/x-python",
   "name": "python",
   "nbconvert_exporter": "python",
   "pygments_lexer": "ipython3",
   "version": "3.8.5"
  }
 },
 "nbformat": 4,
 "nbformat_minor": 4
}
