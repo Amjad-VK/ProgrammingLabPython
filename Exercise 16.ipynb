{
 "cells": [
  {
   "cell_type": "code",
   "execution_count": 22,
   "metadata": {},
   "outputs": [
    {
     "name": "stdout",
     "output_type": "stream",
     "text": [
      "John 8000\n"
     ]
    }
   ],
   "source": [
    "#Create a function showEmployee() in such a way that it should accept employee name, and it’s salary and display both, and if the salary is missing in function call it should show it as 8000\n",
    "\n",
    "def showEmployee(name,salary=8000):\n",
    "     print(name,salary)\n",
    "    \n",
    "    \n",
    "    \n",
    "showEmployee(\"John\")"
   ]
  },
  {
   "cell_type": "code",
   "execution_count": 39,
   "metadata": {},
   "outputs": [
    {
     "name": "stdout",
     "output_type": "stream",
     "text": [
      "Addition= 12\n",
      "Subtractio= 0\n",
      "Multiplication= 36\n",
      "Division= 1.0\n"
     ]
    }
   ],
   "source": [
    "#Write a function calculate() such that it can accept two variables and calculate the addition, subtraction, division and Multiplication of it. And also it must return all values in a single return call and display the results.\n",
    "\n",
    "def calculate(num1,num2):\n",
    "    addn=num1 + num2\n",
    "    subtrctn=num1 - num2\n",
    "    multipl=num1*num2\n",
    "    div=num1/num2 \n",
    "    print(\"Addition=\",addn)\n",
    "    print(\"Subtractio=\",subtrctn)\n",
    "    print(\"Multiplication=\",multipl)\n",
    "    print(\"Division=\",div)\n",
    "calculate(6,6)    "
   ]
  },
  {
   "cell_type": "code",
   "execution_count": 31,
   "metadata": {},
   "outputs": [
    {
     "data": {
      "text/plain": [
       "2"
      ]
     },
     "execution_count": 31,
     "metadata": {},
     "output_type": "execute_result"
    }
   ],
   "source": [
    "#Write a function func 1 such that it can accept a variable length of arguments and return the minimum among all argument values Print the result\n",
    "\n",
    "def func1(*strg):\n",
    "    result=strg[0]\n",
    "    for num in strg:\n",
    "        if num<result:\n",
    "            result=num\n",
    "        return result\n",
    "    \n",
    "func1(2,5,6)        "
   ]
  },
  {
   "cell_type": "code",
   "execution_count": null,
   "metadata": {},
   "outputs": [],
   "source": []
  }
 ],
 "metadata": {
  "kernelspec": {
   "display_name": "Python 3",
   "language": "python",
   "name": "python3"
  },
  "language_info": {
   "codemirror_mode": {
    "name": "ipython",
    "version": 3
   },
   "file_extension": ".py",
   "mimetype": "text/x-python",
   "name": "python",
   "nbconvert_exporter": "python",
   "pygments_lexer": "ipython3",
   "version": "3.8.5"
  }
 },
 "nbformat": 4,
 "nbformat_minor": 4
}
