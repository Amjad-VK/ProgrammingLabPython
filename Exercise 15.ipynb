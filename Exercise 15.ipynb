{
 "cells": [
  {
   "cell_type": "code",
   "execution_count": 3,
   "metadata": {},
   "outputs": [
    {
     "name": "stdout",
     "output_type": "stream",
     "text": [
      "18\n"
     ]
    }
   ],
   "source": [
    "#Write a Python Function to calculate the sum of 3 given numbers,if the values are equal then return thrice their sum.\n",
    "\n",
    "def addsum(a,b,c):\n",
    "    if (a==b==c):\n",
    "      print(a+b+c)\n",
    "    else:\n",
    "        print(\"Sum are not equal\")\n",
    "        \n",
    "addsum(6,6,6)  \n"
   ]
  },
  {
   "cell_type": "code",
   "execution_count": 4,
   "metadata": {},
   "outputs": [
    {
     "name": "stdout",
     "output_type": "stream",
     "text": [
      "6\n"
     ]
    }
   ],
   "source": [
    "#Write a Python function to find the sum of digits of a number.\n",
    "\n",
    "def sumofdig(n):\n",
    "    sum=0\n",
    "    for digit in str(n):\n",
    "      sum += int(digit)\n",
    "    return sum\n",
    "    \n",
    "n=123\n",
    "print(sumofdig(n))"
   ]
  },
  {
   "cell_type": "code",
   "execution_count": 7,
   "metadata": {},
   "outputs": [
    {
     "name": "stdout",
     "output_type": "stream",
     "text": [
      "The factors of 15 are:\n",
      "1\n",
      "3\n",
      "5\n",
      "15\n"
     ]
    }
   ],
   "source": [
    "#Write a Python function to generate all the factorials of a number.\n",
    "\n",
    "#factorial fun\n",
    "def factors(x):\n",
    "   print(\"The factors of\",x,\"are:\")\n",
    "\n",
    "   for i in range(1, x + 1):\n",
    "        #check remainder is 0 ,if true then print\n",
    "       if x % i == 0:\n",
    "           print(i)\n",
    "\n",
    "num = 15\n",
    "\n",
    "factors(num)"
   ]
  },
  {
   "cell_type": "code",
   "execution_count": 6,
   "metadata": {},
   "outputs": [
    {
     "name": "stdout",
     "output_type": "stream",
     "text": [
      "SIMPLE INTEREST IS: 2219640.2345447107\n"
     ]
    }
   ],
   "source": [
    "#Write a Python Function to calculate the simple interest.Use Keyword Arguments\n",
    "\n",
    "def SIMP(P,r,N,t):\n",
    "    #Eqn is P*(1+r/N)*T\n",
    "   s=1 + (r/N)\n",
    "   d=N * t\n",
    "   to=P*s**d\n",
    "   print('SIMPLE INTEREST IS:',to)\n",
    "\n",
    "SIMP(P=1000000,r=0.08,N=12,t=10)\n",
    "   \n",
    "   \n",
    "            \n",
    "   \n",
    "    \n",
    "    \n"
   ]
  },
  {
   "cell_type": "code",
   "execution_count": 3,
   "metadata": {},
   "outputs": [
    {
     "name": "stdout",
     "output_type": "stream",
     "text": [
      "Is John his name?\n"
     ]
    }
   ],
   "source": [
    "#Write a python function to get a new string from a given string where \"is\" has been added to the front.If the given string already begins with \"is\" then return the string unchanged.\n",
    "\n",
    "def strg(a):\n",
    "    \n",
    "    #check of is present already\n",
    "    if \"Is\" in a:\n",
    "         print(a)\n",
    "     #if not add is to the string       \n",
    "    else:\n",
    "         print(\"Is \"+ a)\n",
    "    \n",
    "    \n",
    "a=\"John his name?\" \n",
    "\n",
    "strg(a)\n"
   ]
  },
  {
   "cell_type": "code",
   "execution_count": null,
   "metadata": {},
   "outputs": [],
   "source": []
  },
  {
   "cell_type": "code",
   "execution_count": null,
   "metadata": {},
   "outputs": [],
   "source": []
  }
 ],
 "metadata": {
  "kernelspec": {
   "display_name": "Python 3",
   "language": "python",
   "name": "python3"
  },
  "language_info": {
   "codemirror_mode": {
    "name": "ipython",
    "version": 3
   },
   "file_extension": ".py",
   "mimetype": "text/x-python",
   "name": "python",
   "nbconvert_exporter": "python",
   "pygments_lexer": "ipython3",
   "version": "3.8.5"
  }
 },
 "nbformat": 4,
 "nbformat_minor": 4
}
