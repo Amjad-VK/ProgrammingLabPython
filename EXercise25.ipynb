{
 "cells": [
  {
   "cell_type": "code",
   "execution_count": 3,
   "metadata": {},
   "outputs": [
    {
     "name": "stdout",
     "output_type": "stream",
     "text": [
      "where is the cat \n",
      "\n",
      "there is no cat\n",
      "\n",
      "i am the cat\n"
     ]
    }
   ],
   "source": [
    "#1.\n",
    "import re\n",
    "with open(\"text.txt\",'r') as f:\n",
    "    lines=f.readlines()\n",
    "    for l in lines:\n",
    "        if re.findall('the',l):\n",
    "            print(l)"
   ]
  },
  {
   "cell_type": "code",
   "execution_count": 9,
   "metadata": {},
   "outputs": [
    {
     "name": "stdout",
     "output_type": "stream",
     "text": [
      "what is the proof\n",
      "\n",
      "second proogram is the\n",
      "\n"
     ]
    }
   ],
   "source": [
    "#3.\n",
    "import re\n",
    "f=open(\"txt2.txt\",'r')\n",
    "k=re.compile(\"oo\")\n",
    "for eachline in f.readlines():\n",
    "    if(k.search(eachline)):\n",
    "        print(eachline)\n",
    "f.close()        "
   ]
  },
  {
   "cell_type": "code",
   "execution_count": 20,
   "metadata": {},
   "outputs": [
    {
     "name": "stdout",
     "output_type": "stream",
     "text": [
      "what is the proof\n",
      "\n",
      "second proogram is the\n",
      "\n",
      "i am THE\n"
     ]
    }
   ],
   "source": [
    "#2.\n",
    "import re\n",
    "f=open(\"txt2.txt\",'r')\n",
    "p=re.compile(\"the\",re.I)\n",
    "for eachline in f.readlines():\n",
    "    if(p.search(eachline)):\n",
    "         print(eachline)\n",
    "f.close()        "
   ]
  },
  {
   "cell_type": "code",
   "execution_count": 29,
   "metadata": {},
   "outputs": [
    {
     "name": "stdout",
     "output_type": "stream",
     "text": [
      "18.02.21 february\n",
      "\n",
      "31.03.21 march\n",
      "\n"
     ]
    }
   ],
   "source": [
    "#Retrieve all lines with a date in the form of 1 or two digits,a dot,2digits\n",
    "import re\n",
    "f=open(\"date.txt\",'r')\n",
    "p=re.compile(\"\\d{1,2}\\.\\d{1,2}\\.\\d{2}\",re.I)\n",
    "for eachline in f.readlines():\n",
    "    if(p.findall(eachline)):\n",
    "         print(eachline)\n",
    "f.close()  "
   ]
  },
  {
   "cell_type": "code",
   "execution_count": 4,
   "metadata": {
    "collapsed": true
   },
   "outputs": [],
   "source": [
    "#7.Start with a & ends with n\n",
    "#6.start with a\n",
    "import re\n",
    "f=open(\"an.txt\",'r')\n",
    "p=re.compile(\"^a\\w+n$\",re.I)\n",
    "for eachline in f.readlines():\n",
    "    if(p.search(eachline)):\n",
    "         print(eachline)\n",
    "f.close()"
   ]
  },
  {
   "cell_type": "code",
   "execution_count": 28,
   "metadata": {
    "collapsed": true
   },
   "outputs": [],
   "source": []
  },
  {
   "cell_type": "code",
   "execution_count": 7,
   "metadata": {},
   "outputs": [
    {
     "name": "stdout",
     "output_type": "stream",
     "text": [
      "a cat is\n",
      "\n",
      "A is the alphabet\n",
      "\n",
      "an apple\n",
      "\n"
     ]
    }
   ],
   "source": [
    "#6.start with a\n",
    "import re\n",
    "f=open(\"txo.txt\",'r')\n",
    "p=re.compile(\"^a\",re.I)\n",
    "for eachline in f.readlines():\n",
    "    if(p.search(eachline)):\n",
    "         print(eachline)\n",
    "f.close() "
   ]
  },
  {
   "cell_type": "code",
   "execution_count": 1,
   "metadata": {
    "collapsed": true
   },
   "outputs": [],
   "source": [
    "#Lines start with s and e\n",
    "import re\n",
    "f=open(\"sh.txt\",'r')\n",
    "p=re.compile(\"^s+e$\",re.I)\n",
    "for eachline in f.readlines():\n",
    "    if(p.search(eachline)):\n",
    "         print(eachline)\n",
    "f.close()"
   ]
  },
  {
   "cell_type": "code",
   "execution_count": null,
   "metadata": {
    "collapsed": true
   },
   "outputs": [],
   "source": []
  }
 ],
 "metadata": {
  "kernelspec": {
   "display_name": "Python 3",
   "language": "python",
   "name": "python3"
  },
  "language_info": {
   "codemirror_mode": {
    "name": "ipython",
    "version": 3
   },
   "file_extension": ".py",
   "mimetype": "text/x-python",
   "name": "python",
   "nbconvert_exporter": "python",
   "pygments_lexer": "ipython3",
   "version": "3.6.3"
  }
 },
 "nbformat": 4,
 "nbformat_minor": 2
}
