{
 "cells": [
  {
   "cell_type": "code",
   "execution_count": 8,
   "metadata": {},
   "outputs": [
    {
     "name": "stdin",
     "output_type": "stream",
     "text": [
      "Enter a number to get multiplication Table= 5\n",
      "Enter the Limit= 10\n"
     ]
    },
    {
     "name": "stdout",
     "output_type": "stream",
     "text": [
      "1 * 5 = 5\n",
      "2 * 5 = 10\n",
      "3 * 5 = 15\n",
      "4 * 5 = 20\n",
      "5 * 5 = 25\n",
      "6 * 5 = 30\n",
      "7 * 5 = 35\n",
      "8 * 5 = 40\n",
      "9 * 5 = 45\n",
      "10 * 5 = 50\n"
     ]
    }
   ],
   "source": [
    "#Print the multiplication table of a number\n",
    "\n",
    "n=int(input('Enter a number to get multiplication Table='))\n",
    "l=int(input('Enter the Limit='))\n",
    "i = 1\n",
    "while (i<=l):\n",
    "    print (i,'*',n,'=',i*n)    \n",
    "    i=i+1\n"
   ]
  },
  {
   "cell_type": "code",
   "execution_count": 1,
   "metadata": {},
   "outputs": [
    {
     "name": "stdout",
     "output_type": "stream",
     "text": [
      "1\n",
      "1\n",
      "2\n",
      "3\n",
      "5\n",
      "8\n",
      "13\n",
      "21\n",
      "34\n"
     ]
    }
   ],
   "source": [
    "#Display Fibonacci series between 0 to 50\n",
    "\n",
    "x,y=0,1\n",
    "while y<50:\n",
    "    print(y)\n",
    "    x,y = y,x+y\n"
   ]
  },
  {
   "cell_type": "code",
   "execution_count": 19,
   "metadata": {},
   "outputs": [
    {
     "name": "stdin",
     "output_type": "stream",
     "text": [
      "Enter number: 123\n"
     ]
    },
    {
     "name": "stdout",
     "output_type": "stream",
     "text": [
      "The number of digits in the number are: 3\n"
     ]
    }
   ],
   "source": [
    "#Given a number count the total number of digits in a number\n",
    "\n",
    "n=int(input(\"Enter a number:\"))\n",
    "count=0\n",
    "while(n>0):\n",
    "    count=count+1\n",
    "    n=n//10\n",
    "print(\"The number of digits in the number are:\",count)"
   ]
  },
  {
   "cell_type": "code",
   "execution_count": 29,
   "metadata": {},
   "outputs": [
    {
     "name": "stdin",
     "output_type": "stream",
     "text": [
      "Enter a number:  8\n"
     ]
    },
    {
     "name": "stdout",
     "output_type": "stream",
     "text": [
      "Factorial of  8  is : 40320\n"
     ]
    }
   ],
   "source": [
    "#Write a loop to find the factorial of any number entered by user\n",
    " \n",
    "num = int(input(\"Enter a number: \"))\n",
    " \n",
    "fact = 1\n",
    "i = 1\n",
    " \n",
    "while i <= num:\n",
    "    fact = fact * i\n",
    "    i = i + 1\n",
    "    \n",
    "print(\"Factorial of \", num, \" is :\", fact)    "
   ]
  },
  {
   "cell_type": "code",
   "execution_count": 9,
   "metadata": {},
   "outputs": [
    {
     "name": "stdin",
     "output_type": "stream",
     "text": [
      "Please Enter any Number:  12345\n"
     ]
    },
    {
     "name": "stdout",
     "output_type": "stream",
     "text": [
      " Reverse of entered number is = 54321\n"
     ]
    }
   ],
   "source": [
    "#reverse a integer\n",
    "\n",
    "Number = int(input(\"Please Enter any Number: \"))    \n",
    "Reverse = 0    \n",
    "while(Number > 0):    \n",
    "    Reminder = Number%10    \n",
    "    Reverse = (Reverse *10) + Reminder    \n",
    "    Number = Number //10    \n",
    "     \n",
    "print(\"Reverse of entered number is = %d\" %Reverse)   "
   ]
  },
  {
   "cell_type": "code",
   "execution_count": 22,
   "metadata": {},
   "outputs": [
    {
     "name": "stdin",
     "output_type": "stream",
     "text": [
      "Enter First Value= 452\n",
      "Enter Second Value= 3216\n"
     ]
    },
    {
     "name": "stdout",
     "output_type": "stream",
     "text": [
      "GCD is:4\n"
     ]
    }
   ],
   "source": [
    "#Find the greatest common divisor of two integers\n",
    "\n",
    "a=float(input('Enter First Value='))\n",
    "b=float(input('Enter Second Value='))\n",
    "\n",
    "i=1\n",
    "while(i <= a and i <= b):\n",
    "    if(a % i==0 and b % i == 0):\n",
    "         gcd=i\n",
    "    i= i + 1\n",
    "print('GCD is:{2}'.format(a,b,gcd))"
   ]
  },
  {
   "cell_type": "code",
   "execution_count": null,
   "metadata": {},
   "outputs": [],
   "source": []
  }
 ],
 "metadata": {
  "kernelspec": {
   "display_name": "Python 3",
   "language": "python",
   "name": "python3"
  },
  "language_info": {
   "codemirror_mode": {
    "name": "ipython",
    "version": 3
   },
   "file_extension": ".py",
   "mimetype": "text/x-python",
   "name": "python",
   "nbconvert_exporter": "python",
   "pygments_lexer": "ipython3",
   "version": "3.8.5"
  }
 },
 "nbformat": 4,
 "nbformat_minor": 4
}
