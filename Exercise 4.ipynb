{
 "cells": [
  {
   "cell_type": "code",
   "execution_count": 2,
   "metadata": {},
   "outputs": [
    {
     "name": "stdin",
     "output_type": "stream",
     "text": [
      "Input radian value you want to convert:  23\n"
     ]
    },
    {
     "name": "stdout",
     "output_type": "stream",
     "text": [
      "Degree is 1317.2727272727273\n"
     ]
    }
   ],
   "source": [
    "#Program to convert radian value into degree\n",
    "pi=22/7\n",
    "radian = float(input(\"Input radian value you want to convert: \"))\n",
    "degree = radian*(180/pi)\n",
    "print(\"Degree is\",degree)"
   ]
  },
  {
   "cell_type": "code",
   "execution_count": 4,
   "metadata": {},
   "outputs": [
    {
     "name": "stdin",
     "output_type": "stream",
     "text": [
      "Please Enter the 1st value point a:  3\n",
      "Please Enter the 2nd value point b:  1\n",
      "Please Enter the 3rd value point c:  5\n"
     ]
    },
    {
     "name": "stdout",
     "output_type": "stream",
     "text": [
      "Discriminant value is: -59.0\n"
     ]
    }
   ],
   "source": [
    "#Program to calculate discriminant value\n",
    "a = float(input('Enter the  value of a: '))\n",
    "b = float(input('Enter the value of b: '))\n",
    "c = float(input('Enter the  value of c: '))\n",
    "Dis=(b**2)-(4*a*c)\n",
    "print('Discriminant value is:',Dis)\n"
   ]
  },
  {
   "cell_type": "code",
   "execution_count": null,
   "metadata": {},
   "outputs": [],
   "source": []
  }
 ],
 "metadata": {
  "kernelspec": {
   "display_name": "Python 3",
   "language": "python",
   "name": "python3"
  },
  "language_info": {
   "codemirror_mode": {
    "name": "ipython",
    "version": 3
   },
   "file_extension": ".py",
   "mimetype": "text/x-python",
   "name": "python",
   "nbconvert_exporter": "python",
   "pygments_lexer": "ipython3",
   "version": "3.8.5"
  }
 },
 "nbformat": 4,
 "nbformat_minor": 4
}
