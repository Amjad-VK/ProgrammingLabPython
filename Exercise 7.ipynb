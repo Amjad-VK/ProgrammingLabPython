{
 "cells": [
  {
   "cell_type": "code",
   "execution_count": 5,
   "metadata": {},
   "outputs": [
    {
     "name": "stdin",
     "output_type": "stream",
     "text": [
      "Enter the 1st Integer: 56\n",
      "Enter the 2nd Integer 23\n"
     ]
    },
    {
     "name": "stdout",
     "output_type": "stream",
     "text": [
      "Greater value is 56\n"
     ]
    }
   ],
   "source": [
    "#Input 2 integer value from user and print greatest among them?\n",
    "\n",
    "v1=int(input(\"Enter the 1st Integer:\"))\n",
    "v2=int(input('Enter the 2nd Integer'))\n",
    "if v1 > v2:\n",
    "    print('Greater value is',v1)\n",
    "else:\n",
    "    print('Greater value is',v2)"
   ]
  },
  {
   "cell_type": "code",
   "execution_count": 7,
   "metadata": {},
   "outputs": [
    {
     "name": "stdin",
     "output_type": "stream",
     "text": [
      "Enter a no: 56\n"
     ]
    },
    {
     "name": "stdout",
     "output_type": "stream",
     "text": [
      "The no is positive\n"
     ]
    }
   ],
   "source": [
    "#Check the no is positive or negative or zero?\n",
    "\n",
    "no=int(input(\"Enter a number:\"))\n",
    "if no<0:\n",
    "    print('The no is Negative')\n",
    "elif no>0:\n",
    "    print('The no is positive')\n",
    "else:\n",
    "    print('The no is negative')"
   ]
  },
  {
   "cell_type": "code",
   "execution_count": 9,
   "metadata": {},
   "outputs": [
    {
     "name": "stdin",
     "output_type": "stream",
     "text": [
      "Enter the Length: 20\n",
      "Enter the Breadth: 21\n"
     ]
    },
    {
     "name": "stdout",
     "output_type": "stream",
     "text": [
      "This is not a Square\n"
     ]
    }
   ],
   "source": [
    "#Input length and breadth to check if it is square or not?\n",
    "l=int(input('Enter the Length:'))\n",
    "b=int(input('Enter the Breadth:'))\n",
    "if l==b:\n",
    "    print(\"This is a Square\")\n",
    "else:\n",
    "    print('This is not a Square')"
   ]
  },
  {
   "cell_type": "code",
   "execution_count": 16,
   "metadata": {},
   "outputs": [
    {
     "name": "stdin",
     "output_type": "stream",
     "text": [
      "Enter the 1st no: 100\n",
      "Enter the 2nd no: 200\n"
     ]
    },
    {
     "name": "stdout",
     "output_type": "stream",
     "text": [
      "Product is: 20000\n",
      "Sum is: 300\n"
     ]
    }
   ],
   "source": [
    "#Input 2 integers and return their product, if the product is greater than 1000,then return their sum?\n",
    "\n",
    "i1=int(input('Enter the 1st no:'))\n",
    "i2=int(input('Enter the 2nd no:'))\n",
    "pdct=i1*i2\n",
    "sum=i1+i2\n",
    "print('Product is:',pdct)\n",
    "if pdct>1000:\n",
    "    print('Sum is:',sum)\n",
    "else:\n",
    "    print('')\n"
   ]
  },
  {
   "cell_type": "code",
   "execution_count": 24,
   "metadata": {},
   "outputs": [
    {
     "name": "stdin",
     "output_type": "stream",
     "text": [
      "Enter the no of classes Held: 100\n",
      "Enter the no of classes Attended: 45\n"
     ]
    },
    {
     "name": "stdout",
     "output_type": "stream",
     "text": [
      "Percentage of Classes Attended is: 45.0\n",
      "You are not allowed to Sit in Exam\n"
     ]
    }
   ],
   "source": [
    "#Attendance percentage\n",
    "\n",
    "hld=int(input('Enter the no of classes Held:'))\n",
    "atnd=int(input('Enter the no of classes Attended:'))\n",
    "perctage=atnd/hld*100\n",
    "print('Percentage of Classes Attended is:',perctage)\n",
    "if perctage<75:\n",
    "     print('You are not allowed to Sit in Exam')\n",
    "else:\n",
    "    print('You are Eligible to Sit in Exam')"
   ]
  },
  {
   "cell_type": "code",
   "execution_count": 25,
   "metadata": {},
   "outputs": [
    {
     "name": "stdin",
     "output_type": "stream",
     "text": [
      "Enter some numbers: 1,6,5,4,8\n"
     ]
    },
    {
     "name": "stdout",
     "output_type": "stream",
     "text": [
      "False\n"
     ]
    }
   ],
   "source": [
    "#Given a List of no's print True if first and last no are same\n",
    "nos=input(\"Enter some numbers:\")\n",
    "list=nos.split(\",\")\n",
    "if list[0]==list[-1]:\n",
    "    print('True')\n",
    "else:\n",
    "    print('False')\n",
    "    "
   ]
  },
  {
   "cell_type": "code",
   "execution_count": null,
   "metadata": {},
   "outputs": [],
   "source": []
  }
 ],
 "metadata": {
  "kernelspec": {
   "display_name": "Python 3",
   "language": "python",
   "name": "python3"
  },
  "language_info": {
   "codemirror_mode": {
    "name": "ipython",
    "version": 3
   },
   "file_extension": ".py",
   "mimetype": "text/x-python",
   "name": "python",
   "nbconvert_exporter": "python",
   "pygments_lexer": "ipython3",
   "version": "3.8.5"
  }
 },
 "nbformat": 4,
 "nbformat_minor": 4
}
