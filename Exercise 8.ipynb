{
 "cells": [
  {
   "cell_type": "code",
   "execution_count": 1,
   "metadata": {},
   "outputs": [
    {
     "name": "stdin",
     "output_type": "stream",
     "text": [
      "Enter age of A  50\n",
      "Enter age of B 19\n",
      "Enter age of C 48\n"
     ]
    },
    {
     "name": "stdout",
     "output_type": "stream",
     "text": [
      "A is older\n",
      "B is the Youngest\n"
     ]
    }
   ],
   "source": [
    "#1. Take input of age of 3 people by user and determine oldest and youngest among them.\n",
    "\n",
    "#get 3 ages from uer\n",
    "a=int(input('Enter age of A ')) \n",
    "b=int(input('Enter age of B')) \n",
    "c=int(input('Enter age of C'))\n",
    "#to check who is older and Younger\n",
    "if a>b and a>c:\n",
    "    print('A is Older')\n",
    "elif b>a and b>c:\n",
    "    print('B is Older')\n",
    "elif c>a and c>b:\n",
    "    print('C is Older')\n",
    "    \n",
    "if a<b and a<c:\n",
    "    print(\"A is Youngest\")\n",
    "elif b<a and b<c:\n",
    "    print(\"B is the Youngest\")\n",
    "elif c<a and c<b:\n",
    "    print(\"C is the Youngest\")\n",
    "    "
   ]
  },
  {
   "cell_type": "code",
   "execution_count": 8,
   "metadata": {},
   "outputs": [
    {
     "name": "stdin",
     "output_type": "stream",
     "text": [
      "Input the first number 25\n",
      "Input the second number 14\n",
      "Input the third number 68\n"
     ]
    },
    {
     "name": "stdout",
     "output_type": "stream",
     "text": [
      "Median of the above three numbers -\n",
      "25\n"
     ]
    }
   ],
   "source": [
    "#7. Write a Python program to find the median of three values.\n",
    "\n",
    "#get 3 values from user\n",
    "x = input(\"Input the first number\")\n",
    "y = input(\"Input the second number\")\n",
    "z = input(\"Input the third number\")\n",
    "print(\"Median of the above three numbers -\")\n",
    "\n",
    "if y < x and x < z:\n",
    "    print(x)\n",
    "elif z < x and x < y:\n",
    "    print(x)\n",
    "    \n",
    "elif z < y and y < x:\n",
    "    print(y)\n",
    "elif x < y and y < z:\n",
    "    print(y)\n",
    "    \n",
    "elif y < z and z < x:\n",
    "    print(z)    \n",
    "elif x < z and z < y:\n",
    "    print(z)"
   ]
  },
  {
   "cell_type": "code",
   "execution_count": 17,
   "metadata": {},
   "outputs": [
    {
     "name": "stdin",
     "output_type": "stream",
     "text": [
      "Please Enter the Quantity 60\n"
     ]
    },
    {
     "name": "stdout",
     "output_type": "stream",
     "text": [
      "Total cost with Discounted price is= 5400.0\n"
     ]
    }
   ],
   "source": [
    "#3. A shop will give discount of 10% if the cost of purchased quantity is more than 1000.\n",
    "   # Ask user for quantity\n",
    "    #Suppose, one unit will cost 100.\n",
    "    #Judge and print total cost for user.\n",
    "\n",
    "    #get Quantity from user\n",
    "qty=int(input('Please Enter the Quantity'))\n",
    "cost=qty*100\n",
    "if cost>1000:\n",
    "    disprice=cost/10\n",
    "    discost=cost-disprice\n",
    "    print('Total cost with Discounted price is=',discost)\n",
    "else:\n",
    "    print('Total Cost is=',cost)"
   ]
  },
  {
   "cell_type": "code",
   "execution_count": 9,
   "metadata": {},
   "outputs": [
    {
     "name": "stdin",
     "output_type": "stream",
     "text": [
      "Enter the length of side 1 20\n",
      "Enter the length of side 2 20\n",
      "Enter the length of side 3 30\n"
     ]
    },
    {
     "name": "stdout",
     "output_type": "stream",
     "text": [
      "TRIANGLE IS ISOCELES\n"
     ]
    }
   ],
   "source": [
    "#6. Write a Python program to check a triangle is equilateral, isosceles or scalene.\n",
    " #   Note :\n",
    "  #  An equilateral triangle is a triangle in which all three sides are equal.\n",
    "   #  A scalene triangle is a triangle that has three unequal sides.\n",
    "    # An isosceles triangle is a triangle with (at least) two equal sides.\n",
    "    \n",
    "    #get 3 lenghts from \n",
    "t1=int(input('Enter the length of side 1'))\n",
    "t2=int(input('Enter the length of side 2'))\n",
    "t3=int(input('Enter the length of side 3'))\n",
    "if t1==t2==t3:\n",
    " print(\"TRIANGLE IS EQUILATERAL\")\n",
    "elif t1==t2:\n",
    "   print('TRIANGLE IS ISOCELES')\n",
    "elif t2==t3:\n",
    "   print('TRIANGLE IS ISOCELES')\n",
    "else:\n",
    "   print('TRIANGLE IS SCALENE')\n"
   ]
  },
  {
   "cell_type": "code",
   "execution_count": 14,
   "metadata": {},
   "outputs": [
    {
     "name": "stdin",
     "output_type": "stream",
     "text": [
      "ENTER YOUR CURRENT SALARY= 20000\n",
      "ENTER YOUR NO OF YEARS OF SERVICE= 6\n"
     ]
    },
    {
     "name": "stdout",
     "output_type": "stream",
     "text": [
      "NET BONUS AMOUNT IS= 22000.0\n"
     ]
    }
   ],
   "source": [
    "#4. A company decided to give bonus of 5% to employee if his/her year of service is more than 5 years.\n",
    "  #   Ask user for their salary and year of service and print the net bonus amount.\n",
    "    \n",
    "sal=int(input('ENTER YOUR CURRENT SALARY='))\n",
    "ser=int(input('ENTER YOUR NO OF YEARS OF SERVICE='))\n",
    "nobonus=sal\n",
    "bonus=sal/10\n",
    "bonsala=bonus+sal\n",
    "if ser>5:\n",
    " print(\"NET BONUS AMOUNT IS WITH BONUS IS=\",bonsala)\n",
    "else :\n",
    "    print(\"NET BONUS AMOUNT IS=\",nobonus)"
   ]
  },
  {
   "cell_type": "code",
   "execution_count": 39,
   "metadata": {},
   "outputs": [
    {
     "name": "stdin",
     "output_type": "stream",
     "text": [
      "ENTER YOUR MARK 55\n"
     ]
    }
   ],
   "source": [
    "#2. A school has following rules for grading system:\n",
    "   # a. Below 25 - F\n",
    "    #b. 25 to 45 - E\n",
    "    #c. 45 to 50 - D\n",
    "    #d. 50 to 60 - C\n",
    "    #e. 60 to 80 - B\n",
    "    #f. Above 80 - A\n",
    "    #Ask user to enter marks and print the corresponding grade.\n",
    "    \n",
    "mark=int(input('ENTER YOUR MARK'))\n",
    "if (mark>80):\n",
    "   print('GRADE A')\n",
    "elif (mark>=61 and mark==80):\n",
    "   print('GRADE B')\n",
    "elif (mark>=51 and mark==60):\n",
    "    print('GRADE C')\n",
    "elif (mark>=46 and mark==50):\n",
    "    print('GRADE D')\n",
    "elif (mark>=26 and mark==45):\n",
    "    print('GRADE E')\n",
    "elif (mark<=25):\n",
    "    print('GRADE F')"
   ]
  },
  {
   "cell_type": "code",
   "execution_count": 42,
   "metadata": {},
   "outputs": [
    {
     "name": "stdout",
     "output_type": "stream",
     "text": [
      "Months: January, February, March, April, May, June, July, August, September, October, November, December\n"
     ]
    },
    {
     "name": "stdin",
     "output_type": "stream",
     "text": [
      "Input A  Month:  April\n"
     ]
    },
    {
     "name": "stdout",
     "output_type": "stream",
     "text": [
      "No. of days: 30 days\n"
     ]
    }
   ],
   "source": [
    "#5. Write a Python program to convert month name to a number of days.\n",
    "\n",
    "#months in a year\n",
    "print(\"Months: January, February, March, April, May, June, July, August, September, October, November, December\")\n",
    "#get a month from user\n",
    "month_name = input(\"Input A  Month: \")\n",
    "\n",
    "if month_name == \"February\":\n",
    "     print(\"No. of days: 28/29 days\")\n",
    "elif month_name in (\"April\", \"June\", \"September\", \"November\"):\n",
    "     print(\"No. of days: 30 days\")\n",
    "elif month_name in (\"January\", \"March\", \"May\", \"July\", \"August\", \"October\", \"December\"):\n",
    "     print(\"No. of days: 31 day\")\n",
    "else:\n",
    "     print(\"Wrong name\") "
   ]
  },
  {
   "cell_type": "code",
   "execution_count": null,
   "metadata": {},
   "outputs": [],
   "source": []
  }
 ],
 "metadata": {
  "kernelspec": {
   "display_name": "Python 3",
   "language": "python",
   "name": "python3"
  },
  "language_info": {
   "codemirror_mode": {
    "name": "ipython",
    "version": 3
   },
   "file_extension": ".py",
   "mimetype": "text/x-python",
   "name": "python",
   "nbconvert_exporter": "python",
   "pygments_lexer": "ipython3",
   "version": "3.8.5"
  }
 },
 "nbformat": 4,
 "nbformat_minor": 4
}
