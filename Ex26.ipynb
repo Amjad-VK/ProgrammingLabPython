{
 "cells": [
  {
   "cell_type": "code",
   "execution_count": 2,
   "metadata": {},
   "outputs": [
    {
     "name": "stdout",
     "output_type": "stream",
     "text": [
      "Enter 1st number:8\n",
      "Enter 2nd number:0\n",
      "Division by zero error occured!\n"
     ]
    }
   ],
   "source": [
    "#Write a program to hadnle zero division error\n",
    "try:\n",
    "    a=int(input(\"Enter 1st number:\"))\n",
    "    b=int(input(\"Enter 2nd number:\"))\n",
    "    rslt=a/b\n",
    "    print(\"Result\",rslt)\n",
    "except ZeroDivisionError:\n",
    "    print(\"Division by zero error occured!\")"
   ]
  },
  {
   "cell_type": "code",
   "execution_count": 4,
   "metadata": {},
   "outputs": [
    {
     "name": "stdout",
     "output_type": "stream",
     "text": [
      "Enter 1st number:2\n",
      "Enter 2nd number:k\n",
      "Value error occured\n"
     ]
    }
   ],
   "source": [
    "#Handle multiple exceptions\n",
    "try:\n",
    "    a=int(input(\"Enter 1st number:\"))\n",
    "    b=int(input(\"Enter 2nd number:\"))\n",
    "    rslt=a/b\n",
    "    if a>0:\n",
    "        print(\"Negative Number\")\n",
    "    else:\n",
    "                print(\"Positive Number\")\n",
    "        \n",
    "    print(\"Result\",rslt)\n",
    "except ZeroDivisionError:\n",
    "    print(\"Division by zero error occured!\")\n",
    "except ValueError:\n",
    "    print(\"Value error occured!\")\n",
    "    "
   ]
  },
  {
   "cell_type": "code",
   "execution_count": 3,
   "metadata": {},
   "outputs": [
    {
     "name": "stdout",
     "output_type": "stream",
     "text": [
      "GIVEN NUMBER: 10\n",
      "Enter a number:10\n",
      "Value too Large\n"
     ]
    }
   ],
   "source": [
    "#Create a userdefined exception valuetoosmall\n",
    "g=10\n",
    "print(\"GIVEN NUMBER:\",g)\n",
    "\n",
    "try:\n",
    "    i=int(input(\"Enter a number:\"))\n",
    "    if i<g:\n",
    "        print(\"Value too Small\")\n",
    "    else:\n",
    "        print(\"Value too Large\")\n",
    "except ValueTooSmall:\n",
    "    print(\"Value Too Small\")\n",
    "except ValueTooLarge:\n",
    "    print(\"Value Too Large\")\n",
    "    "
   ]
  },
  {
   "cell_type": "code",
   "execution_count": 6,
   "metadata": {},
   "outputs": [
    {
     "name": "stdout",
     "output_type": "stream",
     "text": [
      "Original String: They are Control\n",
      "They are Controling\n"
     ]
    }
   ],
   "source": [
    "#add in at the end if already add \"ly\"\n",
    "a=\"They are Control\"\n",
    "print(\"Original String:\",a)\n",
    "if \"ing\"  in a:\n",
    "        print(a + \"ly\")\n",
    "elif \"ing\" not in a:\n",
    "    print(a + \"ing\")\n",
    "       \n",
    "else:\n",
    "    print(a)"
   ]
  },
  {
   "cell_type": "code",
   "execution_count": 6,
   "metadata": {},
   "outputs": [
    {
     "name": "stdout",
     "output_type": "stream",
     "text": [
      " 4624\n",
      " 6084\n",
      " 6400\n",
      " 8464\n"
     ]
    }
   ],
   "source": [
    "#generate a list of 4digit no's in a given\n",
    "import math\n",
    "\n",
    "for i in range(1000,10000):\n",
    "    s=i\n",
    "    while s!=0:\n",
    "        j=s%10\n",
    "        s=s//10\n",
    "        if j%2!=0:\n",
    "            break\n",
    "        else:\n",
    "            if s==0:\n",
    "                t=math.sqrt(i)\n",
    "                if int(t)**2==i:\n",
    "                    print(\"\",i)\n",
    "        \n",
    "        \n",
    "\n",
    "        \n",
    "        \n"
   ]
  },
  {
   "cell_type": "code",
   "execution_count": 1,
   "metadata": {},
   "outputs": [
    {
     "name": "stdout",
     "output_type": "stream",
     "text": [
      "First Csv File:\n",
      "Modified Csv File:\n",
      "['2', '6', '4', 12]\n",
      "['6', '2', '2', 10]\n",
      "['8', '2', '3', 13]\n"
     ]
    }
   ],
   "source": [
    "#Open Csv file with 3 colums and swap\n",
    "import csv\n",
    "f1=open('fst.csv','r')\n",
    "f2=open('scd.csv','w')\n",
    "# print(\"First Csv File:\")\n",
    "writer=csv.writer(f2)\n",
    "reader=csv.reader(f1)\n",
    "\n",
    "print(\"Modified Csv File:\")\n",
    "for t in reader:\n",
    "    q1=t[1]\n",
    "    t[1]=t[2]\n",
    "    t[2]=q1\n",
    "    t.append(int(t[0])+int(t[1])+int(t[2]))\n",
    "    print(t)\n",
    "    writer.writerow(t)"
   ]
  },
  {
   "cell_type": "code",
   "execution_count": null,
   "metadata": {
    "collapsed": true
   },
   "outputs": [],
   "source": []
  }
 ],
 "metadata": {
  "kernelspec": {
   "display_name": "Python 3",
   "language": "python",
   "name": "python3"
  },
  "language_info": {
   "codemirror_mode": {
    "name": "ipython",
    "version": 3
   },
   "file_extension": ".py",
   "mimetype": "text/x-python",
   "name": "python",
   "nbconvert_exporter": "python",
   "pygments_lexer": "ipython3",
   "version": "3.6.3"
  }
 },
 "nbformat": 4,
 "nbformat_minor": 2
}
