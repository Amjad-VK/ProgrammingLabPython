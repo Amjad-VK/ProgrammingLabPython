{
 "cells": [
  {
   "cell_type": "code",
   "execution_count": 3,
   "metadata": {},
   "outputs": [],
   "source": [
    "# Create a package graphics with modules rectangle, circle and sub-package 3D-graphics with modules cuboid and sphere.\n",
    "# Include methods to find area and perimeter of respective figures in each module.\n",
    "# Write programs that finds area and perimeter of figures by different importing statements.\n",
    "# (Include selective import of modules and import * statements)"
   ]
  },
  {
   "cell_type": "code",
   "execution_count": 1,
   "metadata": {},
   "outputs": [
    {
     "name": "stdout",
     "output_type": "stream",
     "text": [
      "Enter length of cuboid  : 5\n",
      "Enter width of cuboid   : 6\n",
      "Enter height of cuboid  : 5\n",
      "AREA :  170\n",
      "PERIMETER :  64\n"
     ]
    }
   ],
   "source": [
    "# area and perimeter of cuboid\n",
    "\n",
    "from graphics._3D_graphics import cuboid   #importing cuboid module from the subpackage\n",
    "\n",
    "length =  int(input(\"Enter length of cuboid  : \"))\n",
    "width  =  int(input(\"Enter width of cuboid   : \"))\n",
    "height =  int(input(\"Enter height of cuboid  : \"))\n",
    "print(\"AREA : \",cuboid.area(length,width,height)) #calling area function inside cuboid module\n",
    "print(\"PERIMETER : \",cuboid.perimeter(length,width,height)) #calling area function inside cuboid module\n",
    "      \n"
   ]
  },
  {
   "cell_type": "code",
   "execution_count": 4,
   "metadata": {},
   "outputs": [
    {
     "name": "stdout",
     "output_type": "stream",
     "text": [
      "Enter Radius of Sphere : 6\n",
      "AREA :  452.39\n",
      "PERIMETER :  904.78\n"
     ]
    }
   ],
   "source": [
    "# area and perimeter of sphere\n",
    "\n",
    "from graphics._3D_graphics.sphere import * #importing all functions inside sphere module\n",
    "\n",
    "radius = int(input(\"Enter Radius of Sphere : \"))\n",
    "print(\"AREA : \",round(area(radius),2)) #area of sphere\n",
    "print(\"PERIMETER : \",round(perimeter(radius),2)) #perimeter of sphere\n",
    "\n"
   ]
  },
  {
   "cell_type": "code",
   "execution_count": 12,
   "metadata": {},
   "outputs": [
    {
     "name": "stdout",
     "output_type": "stream",
     "text": [
      "Enter radius of circle  : 6\n",
      "AREA :  113\n",
      "PERIMETER :  38\n"
     ]
    }
   ],
   "source": [
    "# area and peimeter of circle\n",
    "\n",
    "from graphics.circle import area  #importing area function from circle module\n",
    "from graphics.circle import perimeter  #importing perimeter function from circle module\n",
    "\n",
    "radius=int(input(\"Enter radius of circle  : \"))\n",
    "print(\"AREA : \", round(area(radius)))#area\n",
    "print(\"PERIMETER : \",round(perimeter(radius)))#perimeter\n"
   ]
  },
  {
   "cell_type": "code",
   "execution_count": 13,
   "metadata": {},
   "outputs": [
    {
     "name": "stdout",
     "output_type": "stream",
     "text": [
      "Enter length of rectangle : 5\n",
      "Enter width of rectangle : 6\n",
      "AREA :  30\n",
      "PERIMETER :  22\n"
     ]
    }
   ],
   "source": [
    "# AREA AND PERIMETER OF RECTANGLE \n",
    "\n",
    "import graphics.rectangle    #importing rectangle module\n",
    "\n",
    "length=int(input(\"Enter length of rectangle : \"))\n",
    "width=int(input(\"Enter width of rectangle : \"))\n",
    "print(\"AREA : \",graphics.rectangle.area(length,width)) #area of rectangle\n",
    "print(\"PERIMETER : \",graphics.rectangle.perimeter(length,width)) #perimeter of rectangle\n",
    "\n"
   ]
  },
  {
   "cell_type": "code",
   "execution_count": null,
   "metadata": {},
   "outputs": [],
   "source": []
  }
 ],
 "metadata": {
  "kernelspec": {
   "display_name": "Python 3",
   "language": "python",
   "name": "python3"
  },
  "language_info": {
   "codemirror_mode": {
    "name": "ipython",
    "version": 3
   },
   "file_extension": ".py",
   "mimetype": "text/x-python",
   "name": "python",
   "nbconvert_exporter": "python",
   "pygments_lexer": "ipython3",
   "version": "3.8.5"
  }
 },
 "nbformat": 4,
 "nbformat_minor": 4
}
