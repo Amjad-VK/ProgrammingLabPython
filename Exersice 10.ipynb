{
 "cells": [
  {
   "cell_type": "code",
   "execution_count": 1,
   "metadata": {},
   "outputs": [
    {
     "name": "stdout",
     "output_type": "stream",
     "text": [
      "Enter a string:vyshak25\n",
      "Number of characters: 6\n",
      "Number of digits: 2\n"
     ]
    }
   ],
   "source": [
    "#write a python program that accepts a string and calculate the number of digits and letters.(isdigit(),isalpha())\n",
    "\n",
    "string=input(\"Enter a string:\")\n",
    "digit=0;character=0\n",
    "for i in string:\n",
    "    if i.isdigit():          #returns if the charcter is digit\n",
    "        digit+=1             #increment digit\n",
    "    elif i.isalpha():        #returns if the character is alphabet\n",
    "        character+=1         #increment character\n",
    "print(\"Number of characters:\",character)\n",
    "print(\"Number of digits:\",digit)"
   ]
  },
  {
   "cell_type": "code",
   "execution_count": 6,
   "metadata": {},
   "outputs": [
    {
     "name": "stdout",
     "output_type": "stream",
     "text": [
      "0\n",
      "1\n",
      "3\n",
      "4\n",
      "6\n",
      "7\n",
      "8\n",
      "9\n",
      "10\n"
     ]
    }
   ],
   "source": [
    "#write a python program that prints all the numbers frpm 0 to 10 except 2 and 5\n",
    "\n",
    "for number in range(11): #for loop with range of 0 to 10\n",
    "    if number==2 or number==5: #checking\n",
    "        continue\n",
    "    print(number)"
   ]
  },
  {
   "cell_type": "code",
   "execution_count": 23,
   "metadata": {},
   "outputs": [
    {
     "name": "stdout",
     "output_type": "stream",
     "text": [
      "Enter Number of items in List : 3\n",
      "Enter item 1 : 4\n",
      "Enter item 2 : 5\n",
      "Enter item 3 : 2\n",
      "Entered List :  [4, 5, 2]\n",
      "sum of items in the list: 11\n"
     ]
    }
   ],
   "source": [
    "#find the sum of all items in the list.user should enter elements of the list\n",
    "\n",
    "\n",
    "a=int(input(\"Enter Number of items in List : \"))  #reading number of elements\n",
    "b=list()                    #declare a variable for list\n",
    "c=0                         #to store sum of items \n",
    "for i in range(a):  #for loop to insert values to list \n",
    "    item=int(input(\"Enter item %d : \"%(i+1)))  # reading values to varible 'item'\n",
    "    b.append(item)                      #to append\n",
    "print(\"Entered List : \",b)              #printing the list\n",
    "\n",
    "for item in b:                     #for  loop for adding  the entered numbers     \n",
    "    c=c+item      \n",
    "print(\"sum of items in the list:\",c)    #total sum of items in the list\n",
    "\n"
   ]
  },
  {
   "cell_type": "markdown",
   "metadata": {},
   "source": []
  },
  {
   "cell_type": "code",
   "execution_count": 15,
   "metadata": {},
   "outputs": [
    {
     "name": "stdout",
     "output_type": "stream",
     "text": [
      "Enter number of steps:4\n",
      "\n",
      "1 \n",
      "2 4 \n",
      "3 6 9 \n",
      "4 8 12 16 "
     ]
    }
   ],
   "source": [
    "#display the given pyramid with step number accepted from user\n",
    "#eg n=4\n",
    "#1\n",
    "#2 4\n",
    "#3 6 9\n",
    "#4 8 12 16\n",
    "\n",
    "step=int(input(\"Enter number of steps:\"))\n",
    "for i in range(1,step+1): #iterate from 1 to a+1\n",
    "    print(\"\");  #to print on a new line\n",
    "    for j in range(1,i+1):\n",
    "        print(i*j,end=' ')#multiply the values and print pyramid\n",
    "     \n",
    "        "
   ]
  },
  {
   "cell_type": "code",
   "execution_count": 20,
   "metadata": {},
   "outputs": [
    {
     "name": "stdout",
     "output_type": "stream",
     "text": [
      "Enter a string : vyshak\n",
      "Character frequency of ' v ' : 1\n",
      "Character frequency of ' y ' : 1\n",
      "Character frequency of ' s ' : 1\n",
      "Character frequency of ' h ' : 1\n",
      "Character frequency of ' a ' : 1\n",
      "Character frequency of ' k ' : 1\n"
     ]
    }
   ],
   "source": [
    "#count the number of characters(character frequency)in a string\n",
    "\n",
    "a=input(\"Enter a string : \")\n",
    "char=list()          #list  to store each character\n",
    "frequency=list()        #list to store character frequancy without repetition of characters\n",
    "\n",
    "for i in a:         \n",
    "    count=0              #to store the character frequncy of each character\n",
    "    for j in a:    \n",
    "        if i==j :        #to check i and j are equal\n",
    "            count=count+1    #if returns true ,increment value of count\n",
    "    char.append(\"Character frequency of ' %s ' : %d\"%(i,count)) #appending to frequency\n",
    "\n",
    "for i in char: \n",
    "    if i not in frequency: #checking the value of i is added or not\n",
    "        frequency.append(i) #appending i value \n",
    "\n",
    "for i in frequency:\n",
    "    print(i)  "
   ]
  },
  {
   "cell_type": "code",
   "execution_count": 19,
   "metadata": {},
   "outputs": [
    {
     "name": "stdout",
     "output_type": "stream",
     "text": [
      "\n",
      "* \n",
      "* * \n",
      "* * * \n",
      "* * * * \n",
      "* * * * * \n",
      "* * * * \n",
      "* * * \n",
      "* * \n",
      "* "
     ]
    }
   ],
   "source": [
    "# Construct following pattern using nested loop\n",
    "# *\n",
    "# * *\n",
    "# * * *\n",
    "# * * * *\n",
    "# * * * * *\n",
    "# * * * *\n",
    "# * * *\n",
    "# * *\n",
    "# *\n",
    "\n",
    "\n",
    "for i in range(1,5):  #loop will increase\n",
    "    print()\n",
    "    for j in range (i):\n",
    "        print(\"*\",end=' ')   #print * in upperhalf\n",
    "\n",
    "for i in range(5,0,-1): #loop will decrease\n",
    "    print()\n",
    "    for j in range(i):\n",
    "        print(\"*\",end=' ')    #print * in bottom half \n",
    "        "
   ]
  },
  {
   "cell_type": "code",
   "execution_count": null,
   "metadata": {},
   "outputs": [],
   "source": []
  }
 ],
 "metadata": {
  "kernelspec": {
   "display_name": "Python 3",
   "language": "python",
   "name": "python3"
  },
  "language_info": {
   "codemirror_mode": {
    "name": "ipython",
    "version": 3
   },
   "file_extension": ".py",
   "mimetype": "text/x-python",
   "name": "python",
   "nbconvert_exporter": "python",
   "pygments_lexer": "ipython3",
   "version": "3.8.5"
  }
 },
 "nbformat": 4,
 "nbformat_minor": 4
}
