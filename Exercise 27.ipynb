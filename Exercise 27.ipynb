{
 "cells": [
  {
   "cell_type": "code",
   "execution_count": 15,
   "metadata": {},
   "outputs": [
    {
     "name": "stdout",
     "output_type": "stream",
     "text": [
      "From which postion you want to delete:2\n",
      "------Original File------\n",
      "This is line 1\n",
      "This is line 3\n",
      "This is line 4\n",
      "This is line 5\n",
      "This is line 6\n",
      "\n",
      "\n",
      "----After Deleting----\n",
      "This is line 1\n",
      "This is line 4\n",
      "This is line 5\n",
      "This is line 6\n",
      "\n"
     ]
    }
   ],
   "source": [
    "#write a program to delete a sentence from specified posn\n",
    "p=int(input(\"From which postion you want to delete:\"))\n",
    "with open(\"posn.txt\",\"r\") as f:\n",
    "    data=f.read().split('\\n')\n",
    "print(\"------Original File------\")    \n",
    "for i in data:\n",
    "    print(i);\n",
    "del data[p-1]\n",
    "print(\"\\n----After Deleting----\")\n",
    "for i in data:\n",
    "    print(i);\n",
    "    \n",
    "    \n",
    "\n",
    "\n"
   ]
  },
  {
   "cell_type": "code",
   "execution_count": 1,
   "metadata": {},
   "outputs": [
    {
     "name": "stdout",
     "output_type": "stream",
     "text": [
      "------Original File-----\n",
      "What is your name?\n",
      "What is your age?\n",
      "Enter the string you want to replace:is\n",
      "Enter replacing string:was\n",
      "-----After Replacing----\n",
      "What was your name?\n",
      "What was your age?\n"
     ]
    }
   ],
   "source": [
    "#Serach for a word and replace\n",
    "\n",
    "\n",
    "with open(\"repl.txt\",'r') as f:\n",
    "      data=f.read().split('\\n')\n",
    "print(\"------Original File-----\")\n",
    "[print(i) for i in data]\n",
    "s1=input(\"Enter the string you want to replace:\")\n",
    "s2=input(\"Enter replacing string:\")\n",
    "f=open(\"repl.txt\",\"w\")\n",
    "print(\"-----After Replacing----\")\n",
    "for i in data:\n",
    "    if s1 in i:\n",
    "        i=i.replace(s1,s2)\n",
    "    f.writelines(i +'\\n')\n",
    "    print(i)\n"
   ]
  },
  {
   "cell_type": "code",
   "execution_count": 1,
   "metadata": {},
   "outputs": [
    {
     "name": "stdout",
     "output_type": "stream",
     "text": [
      "\n",
      "----Original File----\n",
      "print(\"ABCA\")\n",
      "scanf(\"%d\",&a)\n",
      "\n",
      "\n",
      "\n",
      "-------File without Comment Lines----------\n",
      "print(\"ABCA\")\n",
      "scanf(\"%d\",&a)\n",
      "\n",
      "\n"
     ]
    }
   ],
   "source": [
    "#write program to delete comment lines\n",
    "import re\n",
    "with open(\"comment.txt\",'r') as f:\n",
    "    data=f.read().split('\\n')\n",
    "print(\"\\n----Original File----\")\n",
    "j=0;\n",
    "[print(i) for i in data]\n",
    "for i in data:\n",
    "    if re.search('^#',i):\n",
    "        del data[j]\n",
    "    j=j+1\n",
    "f=open(\"comment.txt\",'w')\n",
    "for i in data:\n",
    "    f.writelines(i+'\\n')\n",
    "print(\"\\n-------File without Comment Lines----------\")\n",
    "for i in data:\n",
    "    print(i)\n"
   ]
  },
  {
   "cell_type": "code",
   "execution_count": 12,
   "metadata": {},
   "outputs": [
    {
     "name": "stdout",
     "output_type": "stream",
     "text": [
      "----------Word Frequency------\n",
      "what \t: 2\n",
      "is \t: 2\n",
      "your \t: 2\n",
      "name \t: 1\n",
      "and \t: 1\n",
      "also \t: 1\n",
      "age \t: 1\n"
     ]
    }
   ],
   "source": [
    "#Count freq of each word from a file\n",
    "with open(\"frq.txt\",\"r\") as f:\n",
    "    data=f.read().split(' ')\n",
    "word=list()\n",
    "fre=list()\n",
    "print(\"----------Word Frequency------\")\n",
    "for i in data:\n",
    "    if i in word:\n",
    "        fre[word.index(i)]=fre[word.index(i)]+1\n",
    "    else:\n",
    "            word.append(i)\n",
    "            fre.append(1)\n",
    "i=0\n",
    "for i in word:\n",
    "    print(i,\"\\t:\",fre[word.index(i)])"
   ]
  },
  {
   "cell_type": "code",
   "execution_count": null,
   "metadata": {
    "collapsed": true
   },
   "outputs": [],
   "source": []
  }
 ],
 "metadata": {
  "kernelspec": {
   "display_name": "Python 3",
   "language": "python",
   "name": "python3"
  },
  "language_info": {
   "codemirror_mode": {
    "name": "ipython",
    "version": 3
   },
   "file_extension": ".py",
   "mimetype": "text/x-python",
   "name": "python",
   "nbconvert_exporter": "python",
   "pygments_lexer": "ipython3",
   "version": "3.6.3"
  }
 },
 "nbformat": 4,
 "nbformat_minor": 2
}
