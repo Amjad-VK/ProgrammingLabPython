{
 "cells": [
  {
   "cell_type": "code",
   "execution_count": 4,
   "metadata": {},
   "outputs": [],
   "source": [
    "#1.Write a Program to copy a text file to another file\n",
    "\n",
    "\n",
    "f1=open(\"File1.txt\",'r')\n",
    "f2=open(\"File2.txt\",'w')\n",
    "for line in f1:\n",
    "    f2.write(line)\n"
   ]
  },
  {
   "cell_type": "code",
   "execution_count": 1,
   "metadata": {},
   "outputs": [
    {
     "name": "stdout",
     "output_type": "stream",
     "text": [
      "Number of Lines in Text are: 4\n"
     ]
    }
   ],
   "source": [
    "#2.Write a program to count the number of lines in a file\n",
    "fc=open(\"Tocountlines.txt\",'r')\n",
    "count=0\n",
    "for line in fc.readlines():\n",
    "    count=count+1\n",
    "print(\"Number of Lines in Text are:\",count)\n",
    "fc.close()\n",
    "\n"
   ]
  },
  {
   "cell_type": "code",
   "execution_count": 27,
   "metadata": {},
   "outputs": [],
   "source": [
    "#3.Write a Program to append a file with contents of another file\n",
    "\n",
    "fa1=open(\"F1contents.txt\",'r')\n",
    "fa2=open(\"F2contents.txt\",'a')\n",
    "for line in fa1:\n",
    "    fa2.write(line)\n",
    "\n"
   ]
  },
  {
   "cell_type": "code",
   "execution_count": 6,
   "metadata": {},
   "outputs": [
    {
     "name": "stdout",
     "output_type": "stream",
     "text": [
      "['Line 1\\n', 'Line 2\\n', 'Line 3']\n"
     ]
    }
   ],
   "source": [
    "#4.Write a python program to read a file line by line and store it into a list\n",
    "with open(\"Storetolist.txt\",'r') as f:\n",
    "    listofcontent=f.readlines()\n",
    "print(listofcontent)    \n"
   ]
  },
  {
   "cell_type": "code",
   "execution_count": 8,
   "metadata": {},
   "outputs": [
    {
     "name": "stdout",
     "output_type": "stream",
     "text": [
      "['January']\n"
     ]
    }
   ],
   "source": [
    "#5.Program to find the LOngest word in a File\n",
    "with open(\"longestword.txt\",'r') as lon:\n",
    "    words=lon.read().split()\n",
    "maxlen=len(max(words))\n",
    "longword=[word for word in words if len(word)==maxlen]\n",
    "print(longword)\n",
    "lon.close()"
   ]
  },
  {
   "cell_type": "code",
   "execution_count": null,
   "metadata": {},
   "outputs": [],
   "source": []
  }
 ],
 "metadata": {
  "kernelspec": {
   "display_name": "Python 3",
   "language": "python",
   "name": "python3"
  },
  "language_info": {
   "codemirror_mode": {
    "name": "ipython",
    "version": 3
   },
   "file_extension": ".py",
   "mimetype": "text/x-python",
   "name": "python",
   "nbconvert_exporter": "python",
   "pygments_lexer": "ipython3",
   "version": "3.8.5"
  }
 },
 "nbformat": 4,
 "nbformat_minor": 4
}
